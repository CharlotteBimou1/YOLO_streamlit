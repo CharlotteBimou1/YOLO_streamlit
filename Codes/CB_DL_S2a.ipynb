{
 "cells": [
  {
   "cell_type": "markdown",
   "metadata": {},
   "source": [
    "# Career Booster Introduction au Deep Learning\n",
    "\n",
    "## Séance #2 — Réseau de Neurones de Convolution\n",
    "\n",
    "*** \n",
    "\n",
    "Ce notebook constitue une introduction à la convolution."
   ]
  },
  {
   "cell_type": "markdown",
   "metadata": {},
   "source": [
    "## Import des bibliothèques"
   ]
  },
  {
   "cell_type": "code",
   "execution_count": 1,
   "metadata": {},
   "outputs": [],
   "source": [
    "# --- Manipulation de données\n",
    "import numpy as np\n",
    "import pandas as pd\n",
    "\n",
    "# --- Display\n",
    "from IPython.display import Image\n",
    "import matplotlib.pyplot as plt\n",
    "import matplotlib.gridspec as gridspec\n",
    "import seaborn as sn\n",
    "\n",
    "# --- Machine Learning\n",
    "from sklearn.model_selection import train_test_split\n",
    "import tensorflow as tf\n",
    "from tensorflow import keras\n",
    "from tensorflow.keras import layers"
   ]
  },
  {
   "cell_type": "markdown",
   "metadata": {},
   "source": [
    "# A. Les données\n",
    "\n",
    "Les données sont issues du dataset *MNIST*, provenant du [NIST][1] (**N**ational **I**nstitute of **S**tandards and **T**echnology).\n",
    "Ce dataset consiste en 70 000 images de chiffres écrits à la main, images en noir & blanc et de taille 28x28 pixels (donc plutôt basse résolution). Ce jeu de données a été intensément utilisé par la communauté de Data Science pour mettre au point des modèles les plus performants possible, jusqu'à atteindre un taux d'erreur de 0.17% !\n",
    "\n",
    "L'objectif va être de créer un modèle apprenant à classer ces images automatiquement. Une fois le modèle appris, nous pourrons classer des images nouvelles, c'est-à-dire des images que le modèle n'aura jamais vu !\n",
    "\n",
    "[1]: https://en.wikipedia.org/wiki/MNIST_database"
   ]
  },
  {
   "cell_type": "markdown",
   "metadata": {},
   "source": [
    "### 1. Import des données\n",
    "\n",
    "Les données sont directement accessibles via Tensorflow / Keras. La première fois que vous lancez ce notebook, vous aurez à télécharger ces données (et ce téléchargement est fait automatiquement, vous n'avez rien à faire). Ensuite, ce ne sera plus la peine."
   ]
  },
  {
   "cell_type": "code",
   "execution_count": 2,
   "metadata": {},
   "outputs": [],
   "source": [
    "(images_train, labels_train), (images_test, labels_test) = keras.datasets.mnist.load_data()"
   ]
  },
  {
   "cell_type": "markdown",
   "metadata": {},
   "source": [
    "### 2. Etude préliminaire des données"
   ]
  },
  {
   "cell_type": "markdown",
   "metadata": {},
   "source": [
    "Keras nous permet directement d'accéder à une séparation de ce jeu de données en *deux sous jeux de données* : \n",
    "- un qui sera utilisé pour l'apprentissage : 60 000 images de 28 par 28 pixels\n",
    "- un qui sera utilisé pour le test : 10 000 images de 28 par 28 pixels également\n",
    "\n",
    "Le premier sera donc utilisé pour **entraîner** le modèle tandis que le second sera utilisé pour **confronter** le modèle à des données qu'il n'a jamais vu. Nous pourrons donc réellement avoir une idée de la performance du modèle."
   ]
  },
  {
   "cell_type": "code",
   "execution_count": 3,
   "metadata": {},
   "outputs": [
    {
     "data": {
      "text/plain": [
       "(60000, 28, 28)"
      ]
     },
     "execution_count": 3,
     "metadata": {},
     "output_type": "execute_result"
    }
   ],
   "source": [
    "images_train.shape"
   ]
  },
  {
   "cell_type": "code",
   "execution_count": 4,
   "metadata": {},
   "outputs": [
    {
     "data": {
      "text/plain": [
       "(60000,)"
      ]
     },
     "execution_count": 4,
     "metadata": {},
     "output_type": "execute_result"
    }
   ],
   "source": [
    "labels_train.shape"
   ]
  },
  {
   "cell_type": "markdown",
   "metadata": {},
   "source": [
    "Les données *target* (le *y_train* ici) correspondent aux classes qu'il va falloir apprendre puis prédire."
   ]
  },
  {
   "cell_type": "code",
   "execution_count": 5,
   "metadata": {},
   "outputs": [
    {
     "data": {
      "text/plain": [
       "array([5, 0, 4, ..., 5, 6, 8], dtype=uint8)"
      ]
     },
     "execution_count": 5,
     "metadata": {},
     "output_type": "execute_result"
    }
   ],
   "source": [
    "labels_train"
   ]
  },
  {
   "cell_type": "code",
   "execution_count": 6,
   "metadata": {},
   "outputs": [],
   "source": [
    "num_classes = 10\n",
    "class_names = [0, 1, 2, 3, 4, 5, 6, 7, 8, 9]\n",
    "#class_names = np.unique(labels_train)\n",
    "input_shape = (28, 28, 1)"
   ]
  },
  {
   "cell_type": "code",
   "execution_count": 7,
   "metadata": {},
   "outputs": [
    {
     "name": "stdout",
     "output_type": "stream",
     "text": [
      "images_train shape: (60000, 28, 28, 1)\n"
     ]
    }
   ],
   "source": [
    "images_train = images_train.astype(\"float32\") / 255\n",
    "images_test = images_test.astype(\"float32\") / 255\n",
    "\n",
    "# Redimensionnement des images\n",
    "images_train = np.expand_dims(images_train, -1)\n",
    "images_test = np.expand_dims(images_test, -1)\n",
    "print(\"images_train shape:\", images_train.shape)"
   ]
  },
  {
   "cell_type": "code",
   "execution_count": 8,
   "metadata": {},
   "outputs": [],
   "source": [
    "labels_train = keras.utils.to_categorical(labels_train, num_classes)\n",
    "labels_test = keras.utils.to_categorical(labels_test, num_classes)"
   ]
  },
  {
   "cell_type": "code",
   "execution_count": 10,
   "metadata": {},
   "outputs": [
    {
     "data": {
      "text/plain": [
       "array([1., 0., 0., 0., 0., 0., 0., 0., 0., 0.], dtype=float32)"
      ]
     },
     "execution_count": 10,
     "metadata": {},
     "output_type": "execute_result"
    }
   ],
   "source": [
    "labels_train[0]"
   ]
  },
  {
   "cell_type": "markdown",
   "metadata": {},
   "source": [
    "### 3. Visualisation\n",
    "\n",
    "Il est indispensable de toujours essayer (lorsque c'est possible) de visualiser les données que nous allons avoir à traiter."
   ]
  },
  {
   "cell_type": "code",
   "execution_count": 12,
   "metadata": {},
   "outputs": [
    {
     "data": {
      "image/png": "[encoded data removed]",
      "text/plain": [
       "<Figure size 720x720 with 25 Axes>"
      ]
     },
     "metadata": {},
     "output_type": "display_data"
    }
   ],
   "source": [
    "nb_images = images_train.shape[0]\n",
    "\n",
    "random_indices = np.random.randint(0, nb_images, 25)\n",
    "\n",
    "plt.figure(figsize=(10,10))\n",
    "\n",
    "for iCpt, iIdx in enumerate(random_indices):\n",
    "    plt.subplot(5, 5, iCpt+1)\n",
    "    plt.xticks([])\n",
    "    plt.yticks([])\n",
    "    plt.grid(False)\n",
    "    plt.imshow(images_train[iIdx][:, :, 0], cmap=plt.cm.binary)\n",
    "    plt.xlabel(labels_train[iIdx]);\n",
    "\n",
    "plt.show()"
   ]
  },
  {
   "cell_type": "markdown",
   "metadata": {},
   "source": [
    "## B. L'apprentissage\n",
    "\n",
    "Nous allons ici utiliser un modèle **séquentiel** simple, c'est-à-dire un modèle composé :\n",
    "- d'une couche d'entrée : c'est par là que les données vont entrer dans le modèle. Il y aura **28x28 neurones** d'entrée puisque nos images ont une dimension de 28 par 28 pixels\n",
    "- d'une seule couche cachée contenant 128 neurones\n",
    "- d'une couche de sortie : c'est par là que les prédictions du modèle vont être récupérées. Il y aura **10 neurones** ici puisqu'il y a 10 classes de vêtements à prédire."
   ]
  },
  {
   "cell_type": "markdown",
   "metadata": {},
   "source": [
    "### 1. Création du modèle\n",
    "\n",
    "Nous créons le modèle via l'API de Keras, désormais complètement intégrée à Tensorflow (développé par Google).\n",
    "Pour ce faire, nous additionnons les couches les unes aux autres, chacune avec des propriétés particulières."
   ]
  },
  {
   "cell_type": "code",
   "execution_count": 13,
   "metadata": {},
   "outputs": [],
   "source": [
    "model = tf.keras.Sequential(\n",
    "    [\n",
    "        keras.Input(shape=input_shape),\n",
    "        layers.Conv2D(32, kernel_size=(3, 3), activation=\"relu\"),\n",
    "        layers.MaxPooling2D(pool_size=(2, 2)),\n",
    "        layers.Conv2D(64, kernel_size=(3, 3), activation=\"relu\"),\n",
    "        layers.MaxPooling2D(pool_size=(2, 2)),\n",
    "        layers.Flatten(),\n",
    "        layers.Dropout(0.5),\n",
    "        layers.Dense(num_classes, activation=\"softmax\"),\n",
    "    ]\n",
    ")"
   ]
  },
  {
   "cell_type": "markdown",
   "metadata": {},
   "source": [
    "Jetons un coup d'oeil sur ce modèle :"
   ]
  },
  {
   "cell_type": "code",
   "execution_count": 14,
   "metadata": {},
   "outputs": [
    {
     "name": "stdout",
     "output_type": "stream",
     "text": [
      "Model: \"sequential\"\n",
      "_________________________________________________________________\n",
      "Layer (type)                 Output Shape              Param #   \n",
      "=================================================================\n",
      "conv2d (Conv2D)              (None, 26, 26, 32)        320       \n",
      "_________________________________________________________________\n",
      "max_pooling2d (MaxPooling2D) (None, 13, 13, 32)        0         \n",
      "_________________________________________________________________\n",
      "conv2d_1 (Conv2D)            (None, 11, 11, 64)        18496     \n",
      "_________________________________________________________________\n",
      "max_pooling2d_1 (MaxPooling2 (None, 5, 5, 64)          0         \n",
      "_________________________________________________________________\n",
      "flatten (Flatten)            (None, 1600)              0         \n",
      "_________________________________________________________________\n",
      "dropout (Dropout)            (None, 1600)              0         \n",
      "_________________________________________________________________\n",
      "dense (Dense)                (None, 10)                16010     \n",
      "=================================================================\n",
      "Total params: 34,826\n",
      "Trainable params: 34,826\n",
      "Non-trainable params: 0\n",
      "_________________________________________________________________\n"
     ]
    }
   ],
   "source": [
    "model.summary()"
   ]
  },
  {
   "cell_type": "markdown",
   "metadata": {},
   "source": [
    "Chaque couches (*layer*) possède un vecteur de poids ainsi qu'un vecteur de biais. C'est cette architecture qui permet l'apprentissage et ce sont ces valeurs (principalement) que le modèle va essayer de modifier lors de l'apprentissage afin que les prédictions que le modèle effectue soient de plus en plus proches de la référence qui lui ai donné.\n",
    "\n",
    "A noter que par défaut, les biais sont tous initialisés à 0 en début d'apprentissage."
   ]
  },
  {
   "cell_type": "code",
   "execution_count": 15,
   "metadata": {},
   "outputs": [
    {
     "data": {
      "text/plain": [
       "[<tf.Variable 'conv2d/kernel:0' shape=(3, 3, 1, 32) dtype=float32, numpy=\n",
       " array([[[[-0.12635669,  0.00862314, -0.01585111, -0.06927017,\n",
       "           -0.00882667,  0.11212055, -0.06941114, -0.03688149,\n",
       "            0.02125376,  0.10348751, -0.05396657,  0.09712769,\n",
       "            0.08749682,  0.02801792,  0.09276904, -0.01119637,\n",
       "            0.09754597, -0.05811194, -0.02289008, -0.01443981,\n",
       "            0.11612053, -0.11103307,  0.03547008,  0.08812919,\n",
       "           -0.0026771 ,  0.10009979, -0.08616105,  0.09839112,\n",
       "            0.07065023, -0.07771631, -0.08181696, -0.04532832]],\n",
       " \n",
       "         [[ 0.13119946, -0.05317253,  0.0519249 ,  0.11451672,\n",
       "            0.11876361, -0.12761746, -0.03709834, -0.12903762,\n",
       "           -0.09169668, -0.10574694, -0.08512748,  0.01049617,\n",
       "            0.09159085,  0.13806416,  0.10009694, -0.08646833,\n",
       "           -0.03791489, -0.11701713, -0.10055602,  0.07778972,\n",
       "           -0.031805  , -0.13797964, -0.08985306, -0.02401796,\n",
       "           -0.05727395,  0.00467211, -0.07683084, -0.13397266,\n",
       "           -0.0728341 ,  0.09353882,  0.04701635, -0.08673716]],\n",
       " \n",
       "         [[ 0.06634437, -0.13301016,  0.09686185,  0.10794525,\n",
       "            0.07213426, -0.03376132, -0.03373773, -0.00511703,\n",
       "           -0.11409326,  0.03891917, -0.00935203, -0.02618041,\n",
       "            0.05159301, -0.07292051,  0.06061687,  0.0684052 ,\n",
       "           -0.13651153, -0.11447744, -0.13144378, -0.09133425,\n",
       "           -0.11289497,  0.07141626,  0.07367814,  0.00108483,\n",
       "           -0.05877054, -0.09652518, -0.01404621,  0.02080625,\n",
       "           -0.01717387,  0.12576298, -0.12785172, -0.09502021]]],\n",
       " \n",
       " \n",
       "        [[[-0.0515475 ,  0.08974135, -0.02022275,  0.14153124,\n",
       "           -0.05166153, -0.07647828,  0.00882681,  0.04502472,\n",
       "            0.07697086, -0.09707948,  0.11367862,  0.09221847,\n",
       "            0.03176597, -0.00764993,  0.10872929,  0.09848861,\n",
       "            0.09085989,  0.11521019, -0.05370517, -0.12302112,\n",
       "            0.04724798,  0.12118311,  0.10093121,  0.08405612,\n",
       "           -0.04655358,  0.03222886, -0.14157958,  0.00143564,\n",
       "            0.00471742,  0.07846418,  0.13950534, -0.13862248]],\n",
       " \n",
       "         [[ 0.13244726,  0.01648213,  0.05369365,  0.03540014,\n",
       "            0.06084906,  0.10675018, -0.06693506, -0.11896196,\n",
       "           -0.04329054, -0.12216286, -0.11748199,  0.05563173,\n",
       "           -0.00326902,  0.02541155,  0.05349256, -0.10533358,\n",
       "            0.13956667,  0.0518745 ,  0.11351912,  0.03958008,\n",
       "            0.09733526,  0.11489652,  0.10381629,  0.10334705,\n",
       "           -0.02984672, -0.07640173, -0.12024832,  0.05754724,\n",
       "           -0.00148359,  0.1244051 ,  0.00495633, -0.05721817]],\n",
       " \n",
       "         [[ 0.01930976,  0.13131191,  0.11344124, -0.02182046,\n",
       "            0.03773797, -0.06024525,  0.09187621, -0.06388675,\n",
       "            0.13748573, -0.01231995, -0.12645689,  0.12931384,\n",
       "           -0.1324663 ,  0.08293463, -0.03778317, -0.088122  ,\n",
       "            0.05230139, -0.04214179, -0.11420197,  0.05153292,\n",
       "            0.13458373, -0.10984904, -0.05183414,  0.03867756,\n",
       "           -0.05213635,  0.12367789,  0.06302521,  0.08200727,\n",
       "           -0.03090133,  0.02689995, -0.07357983, -0.02019893]]],\n",
       " \n",
       " \n",
       "        [[[-0.11305163,  0.0176654 , -0.10739699, -0.07537483,\n",
       "            0.13240261,  0.11761437,  0.11747681, -0.03329245,\n",
       "            0.05420257, -0.06603183, -0.00822228, -0.10716374,\n",
       "           -0.01263703, -0.07264589, -0.0795746 , -0.03218403,\n",
       "            0.06597246, -0.09214338,  0.0803289 ,  0.09901471,\n",
       "           -0.047776  ,  0.08132631, -0.02621531,  0.01329041,\n",
       "           -0.0590023 , -0.07912531, -0.0751404 , -0.0824696 ,\n",
       "            0.0453493 , -0.01820699,  0.02975726,  0.02371508]],\n",
       " \n",
       "         [[ 0.12967943,  0.13851078,  0.06133121, -0.02540127,\n",
       "            0.03997198, -0.04961741, -0.10023615, -0.08961308,\n",
       "           -0.04487962,  0.07080564,  0.0725466 ,  0.00836401,\n",
       "           -0.12431988, -0.11996231, -0.03156129,  0.12943514,\n",
       "           -0.047209  , -0.11395209, -0.12046232,  0.12782021,\n",
       "            0.02136499,  0.09694843, -0.04224572,  0.09244047,\n",
       "            0.02218367, -0.0668112 ,  0.05253869,  0.05452013,\n",
       "            0.13772486, -0.04817465, -0.1269078 , -0.14050838]],\n",
       " \n",
       "         [[-0.0002363 ,  0.00834896,  0.1110809 , -0.05013371,\n",
       "           -0.00253403,  0.13445534, -0.03779218, -0.08541552,\n",
       "            0.06990607, -0.05409047, -0.11014786, -0.11497501,\n",
       "            0.0969243 , -0.10961623,  0.00192107, -0.08578435,\n",
       "            0.06667107, -0.04459476,  0.06102796,  0.09332804,\n",
       "           -0.08281823,  0.08305916,  0.14092882, -0.08418849,\n",
       "            0.12092261,  0.08967564, -0.00920522,  0.11221151,\n",
       "           -0.07114329, -0.11817381,  0.01859778,  0.02159752]]]],\n",
       "       dtype=float32)>,\n",
       " <tf.Variable 'conv2d/bias:0' shape=(32,) dtype=float32, numpy=\n",
       " array([0., 0., 0., 0., 0., 0., 0., 0., 0., 0., 0., 0., 0., 0., 0., 0., 0.,\n",
       "        0., 0., 0., 0., 0., 0., 0., 0., 0., 0., 0., 0., 0., 0., 0.],\n",
       "       dtype=float32)>]"
      ]
     },
     "execution_count": 15,
     "metadata": {},
     "output_type": "execute_result"
    }
   ],
   "source": [
    "model.layers[0].weights"
   ]
  },
  {
   "cell_type": "markdown",
   "metadata": {},
   "source": [
    "Le modèle étant maintenant créé, il est nécessaire de le compiler."
   ]
  },
  {
   "cell_type": "code",
   "execution_count": 16,
   "metadata": {},
   "outputs": [],
   "source": [
    "model.compile(\n",
    "    loss=\"categorical_crossentropy\",\n",
    "    optimizer=\"adam\",\n",
    "    metrics=[\"accuracy\"]\n",
    ")"
   ]
  },
  {
   "cell_type": "markdown",
   "metadata": {},
   "source": [
    "### 2. Entraînement du modèle\n",
    "\n",
    "Nous pouvons maintenant entraîner le modèle avec comme arguments :\n",
    "- *X_train* : les données d'entraînement, c'est-à-dire 48 000 images\n",
    "- *y_train* : les 48 000 labels correspondant\n",
    "- *epochs* : un nombre d'itération, c'est-à-dire de fois où le modèle va effectuer une passe sur toutes les données d'apprentissage\n",
    "- *validation_data* : les données de validation, elles aussi composées d'images et de labels correspondants\n",
    "- *callbacks* : une liste des fonctions à appeler à chaque fin d'époques / d'itérations."
   ]
  },
  {
   "cell_type": "code",
   "execution_count": 17,
   "metadata": {},
   "outputs": [
    {
     "name": "stdout",
     "output_type": "stream",
     "text": [
      "Epoch 1/15\n",
      "422/422 [==============================] - 17s 39ms/step - loss: 0.7401 - accuracy: 0.7770 - val_loss: 0.0783 - val_accuracy: 0.9770\n",
      "Epoch 2/15\n",
      "422/422 [==============================] - 20s 47ms/step - loss: 0.1216 - accuracy: 0.9621 - val_loss: 0.0587 - val_accuracy: 0.9837\n",
      "Epoch 3/15\n",
      "422/422 [==============================] - 20s 46ms/step - loss: 0.0897 - accuracy: 0.9725 - val_loss: 0.0464 - val_accuracy: 0.9873\n",
      "Epoch 4/15\n",
      "422/422 [==============================] - 21s 50ms/step - loss: 0.0713 - accuracy: 0.9777 - val_loss: 0.0454 - val_accuracy: 0.9870\n",
      "Epoch 5/15\n",
      "422/422 [==============================] - 21s 50ms/step - loss: 0.0646 - accuracy: 0.9802 - val_loss: 0.0384 - val_accuracy: 0.9893\n",
      "Epoch 6/15\n",
      "422/422 [==============================] - 21s 49ms/step - loss: 0.0565 - accuracy: 0.9818 - val_loss: 0.0380 - val_accuracy: 0.9890\n",
      "Epoch 7/15\n",
      "422/422 [==============================] - 19s 44ms/step - loss: 0.0525 - accuracy: 0.9841 - val_loss: 0.0354 - val_accuracy: 0.9905\n",
      "Epoch 8/15\n",
      "422/422 [==============================] - 26s 61ms/step - loss: 0.0460 - accuracy: 0.9846 - val_loss: 0.0337 - val_accuracy: 0.9907\n",
      "Epoch 9/15\n",
      "422/422 [==============================] - 27s 64ms/step - loss: 0.0432 - accuracy: 0.9863 - val_loss: 0.0326 - val_accuracy: 0.9912\n",
      "Epoch 10/15\n",
      "422/422 [==============================] - 23s 55ms/step - loss: 0.0380 - accuracy: 0.9880 - val_loss: 0.0330 - val_accuracy: 0.9905\n",
      "Epoch 11/15\n",
      "422/422 [==============================] - 19s 45ms/step - loss: 0.0368 - accuracy: 0.9878 - val_loss: 0.0305 - val_accuracy: 0.9913\n",
      "Epoch 12/15\n",
      "422/422 [==============================] - 20s 48ms/step - loss: 0.0377 - accuracy: 0.9880 - val_loss: 0.0320 - val_accuracy: 0.9922\n",
      "Epoch 13/15\n",
      "422/422 [==============================] - 18s 42ms/step - loss: 0.0347 - accuracy: 0.9889 - val_loss: 0.0266 - val_accuracy: 0.9927\n",
      "Epoch 14/15\n",
      "422/422 [==============================] - 19s 44ms/step - loss: 0.0336 - accuracy: 0.9892 - val_loss: 0.0263 - val_accuracy: 0.9928\n",
      "Epoch 15/15\n",
      "422/422 [==============================] - 24s 56ms/step - loss: 0.0349 - accuracy: 0.9888 - val_loss: 0.0273 - val_accuracy: 0.9928\n"
     ]
    }
   ],
   "source": [
    "batch_size = 128\n",
    "nb_epochs = 15\n",
    "validation_split = 0.1\n",
    "\n",
    "history = model.fit(images_train,\n",
    "                    labels_train,\n",
    "                    batch_size=batch_size,\n",
    "                    epochs=nb_epochs,\n",
    "                    validation_split=validation_split)"
   ]
  },
  {
   "cell_type": "code",
   "execution_count": 18,
   "metadata": {},
   "outputs": [
    {
     "data": {
      "image/png": "[encoded data removed]",
      "text/plain": [
       "<Figure size 432x288 with 1 Axes>"
      ]
     },
     "metadata": {
      "needs_background": "light"
     },
     "output_type": "display_data"
    }
   ],
   "source": [
    "plt.plot(range(1, nb_epochs+1), history.history[\"loss\"])\n",
    "plt.plot(range(1, nb_epochs+1), history.history[\"val_loss\"])\n",
    "plt.show()"
   ]
  },
  {
   "cell_type": "code",
   "execution_count": 19,
   "metadata": {},
   "outputs": [
    {
     "data": {
      "image/png": "[encoded data removed]",
      "text/plain": [
       "<Figure size 432x288 with 1 Axes>"
      ]
     },
     "metadata": {
      "needs_background": "light"
     },
     "output_type": "display_data"
    }
   ],
   "source": [
    "plt.plot(range(1, nb_epochs+1), history.history[\"accuracy\"])\n",
    "plt.plot(range(1, nb_epochs+1), history.history[\"val_accuracy\"])\n",
    "plt.show()"
   ]
  },
  {
   "cell_type": "markdown",
   "metadata": {},
   "source": [
    "### 3. Visualisation des résultats\n",
    "\n",
    "L'apprentissage est maintenant terminé. Nous pouvons visualiser l'évolution des métriques que nous avons définies plus haut :"
   ]
  },
  {
   "cell_type": "code",
   "execution_count": 20,
   "metadata": {},
   "outputs": [
    {
     "data": {
      "image/png": "[encoded data removed]",
      "text/plain": [
       "<Figure size 576x360 with 1 Axes>"
      ]
     },
     "metadata": {
      "needs_background": "light"
     },
     "output_type": "display_data"
    }
   ],
   "source": [
    "pd.DataFrame(history.history).plot(figsize=(8, 5))\n",
    "plt.grid(True)\n",
    "plt.gca().set_ylim(0, 1)\n",
    "plt.show()"
   ]
  },
  {
   "cell_type": "markdown",
   "metadata": {},
   "source": [
    "### 4. Evaluation du modèle\n",
    "\n",
    "Le modèle est entraîné et nous considérons que les valeurs de *loss* sont suffisament hautes pour arrêter l'apprentissage. Nous pouvons donc désormais *utiliser* ce modèle pour faire de la prédiction.\n",
    "\n",
    "Nous allons alors commencer par effectuer des prédictions sur le jeu de données test, jeu de données, pour rappel, que le modèle n'a **jamais** vu mais pour lequel nous connaissons le label à prédire — c'est tout l'intérêt du jeu de test !"
   ]
  },
  {
   "cell_type": "code",
   "execution_count": 21,
   "metadata": {},
   "outputs": [
    {
     "name": "stdout",
     "output_type": "stream",
     "text": [
      "313/313 - 0s - loss: 0.0254 - accuracy: 0.9916\n"
     ]
    }
   ],
   "source": [
    "test_loss, test_acc = model.evaluate(images_test,  labels_test, verbose=2)"
   ]
  },
  {
   "cell_type": "markdown",
   "metadata": {},
   "source": [
    "### 5. Prédictions\n",
    "\n",
    "On effectue une prédiction sur trois images du jeu de données de test (jamais vue auparavant par le modèle)"
   ]
  },
  {
   "cell_type": "code",
   "execution_count": 22,
   "metadata": {},
   "outputs": [
    {
     "data": {
      "text/plain": [
       "array([[7.1052095e-11, 1.5335819e-11, 8.2706453e-07, 1.6611535e-06,\n",
       "        6.5789727e-14, 3.8069551e-11, 3.3860930e-18, 9.9999750e-01,\n",
       "        2.8078398e-10, 4.3626713e-08]], dtype=float32)"
      ]
     },
     "execution_count": 22,
     "metadata": {},
     "output_type": "execute_result"
    }
   ],
   "source": [
    "X_new = images_test[:1]\n",
    "y_proba = model.predict(X_new)\n",
    "y_proba"
   ]
  },
  {
   "cell_type": "markdown",
   "metadata": {},
   "source": [
    "Si l'on souhaite avoir des classes prédites plutôt que des probas d'appartenance"
   ]
  },
  {
   "cell_type": "code",
   "execution_count": 23,
   "metadata": {},
   "outputs": [],
   "source": [
    "probability_model = tf.keras.Sequential([model, \n",
    "                                         tf.keras.layers.Softmax()])\n",
    "\n",
    "#predictions = probability_model.predict(images_test)\n",
    "predictions = model.predict(images_test)"
   ]
  },
  {
   "cell_type": "code",
   "execution_count": 24,
   "metadata": {},
   "outputs": [],
   "source": [
    "predictions = model.predict(images_test)"
   ]
  },
  {
   "cell_type": "code",
   "execution_count": 25,
   "metadata": {},
   "outputs": [
    {
     "data": {
      "text/plain": [
       "array([7.1052095e-11, 1.5335849e-11, 8.2706373e-07, 1.6611535e-06,\n",
       "       6.5789727e-14, 3.8069624e-11, 3.3860671e-18, 9.9999750e-01,\n",
       "       2.8078345e-10, 4.3626709e-08], dtype=float32)"
      ]
     },
     "execution_count": 25,
     "metadata": {},
     "output_type": "execute_result"
    }
   ],
   "source": [
    "predictions[0]"
   ]
  },
  {
   "cell_type": "code",
   "execution_count": 26,
   "metadata": {},
   "outputs": [
    {
     "data": {
      "text/plain": [
       "7"
      ]
     },
     "execution_count": 26,
     "metadata": {},
     "output_type": "execute_result"
    }
   ],
   "source": [
    "np.argmax(predictions[0])"
   ]
  },
  {
   "cell_type": "code",
   "execution_count": 27,
   "metadata": {},
   "outputs": [
    {
     "data": {
      "text/plain": [
       "array([0., 0., 0., 0., 0., 0., 0., 1., 0., 0.], dtype=float32)"
      ]
     },
     "execution_count": 27,
     "metadata": {},
     "output_type": "execute_result"
    }
   ],
   "source": [
    "labels_test[0]"
   ]
  },
  {
   "cell_type": "code",
   "execution_count": 28,
   "metadata": {},
   "outputs": [],
   "source": [
    "def plot_image_and_probas(\n",
    "    image,\n",
    "    predictions,\n",
    "    true_label,\n",
    "    labels\n",
    "):\n",
    "    \"\"\"Description\n",
    "    \n",
    "    Parameters\n",
    "    ----------\n",
    "    image : 2D matrix\n",
    "    \n",
    "    predictions : 2D matrix\n",
    "\n",
    "    true_label : \n",
    "    \n",
    "    labels : list of str\n",
    "        All possible labels\n",
    "    \n",
    "    Returns\n",
    "    -------\n",
    "    \"\"\"\n",
    "    fig = plt.figure(figsize=(8, 4),\n",
    "                     constrained_layout=True)\n",
    "    \n",
    "    spec = gridspec.GridSpec(ncols=2,\n",
    "                             nrows=1,\n",
    "                             figure=fig)\n",
    "    \n",
    "    fig.add_subplot(spec[0, 0])\n",
    "    \n",
    "    plt.grid(False)\n",
    "    plt.xticks([])\n",
    "    plt.yticks([])\n",
    "\n",
    "    plt.imshow(image, cmap = plt.cm.binary)\n",
    "\n",
    "    predicted_label = np.argmax(predictions)\n",
    "\n",
    "    color = 'blue'\n",
    "    if predicted_label != true_label:\n",
    "        color = 'red'\n",
    "\n",
    "    disp_pred_label = labels[predicted_label]\n",
    "    disp_pred = round(100*np.max(predictions))/100\n",
    "    disp_true_label = labels[true_label]\n",
    "    plt.xlabel(\n",
    "        f\"Pred.: {disp_pred_label}, proba: {disp_pred}, true label: {disp_true_label}\",\n",
    "        color=color)\n",
    "\n",
    "    # --- Second subplot\n",
    "    fig.add_subplot(spec[0, 1])\n",
    "    \n",
    "    plt.grid(False)\n",
    "    plt.xticks(range(10))\n",
    "    \n",
    "    plt_bar = plt.bar(range(len(labels)),\n",
    "                       predictions,\n",
    "                       color=\"#777777\")\n",
    "    \n",
    "    plt_bar[predicted_label].set_color('red')\n",
    "    plt_bar[true_label].set_color('blue')\n",
    "    \n",
    "    locs, _ = plt.xticks()\n",
    "    plt.xticks(ticks=locs, labels=labels, rotation=45)\n",
    "    \n",
    "    plt.show()"
   ]
  },
  {
   "cell_type": "code",
   "execution_count": 48,
   "metadata": {},
   "outputs": [
    {
     "data": {
      "image/png": "[encoded data removed]",
      "text/plain": [
       "<Figure size 576x288 with 2 Axes>"
      ]
     },
     "metadata": {
      "needs_background": "light"
     },
     "output_type": "display_data"
    }
   ],
   "source": [
    "idx = np.random.randint(0, len(images_test), 1)[0]\n",
    "\n",
    "plot_image_and_probas(images_test[idx][:, :, 0],\n",
    "                      predictions[idx],\n",
    "                      np.argmax(labels_test[idx]),\n",
    "                      class_names)"
   ]
  },
  {
   "cell_type": "markdown",
   "metadata": {},
   "source": [
    "### 6. Analyse des limites du modèle\n",
    "\n",
    "Le jeu de données test va nous servir à étudier où le modèle est moins performant :\n",
    "- est-ce pour toutes les classes ?\n",
    "- ou sont-ce seulement certaines classes qui sont plus dures à modéliser ?\n",
    "\n",
    "Pour cela, nous allons utiliser la matrice de confusion introduite à la session 4."
   ]
  },
  {
   "cell_type": "code",
   "execution_count": 49,
   "metadata": {},
   "outputs": [],
   "source": [
    "confusion_matrix = tf.math.confusion_matrix(\n",
    "    np.argmax(labels_test, axis=1),\n",
    "    np.argmax(predictions, axis=1),\n",
    "    num_classes=10\n",
    ")\n",
    "confusion_matrix = np.array(confusion_matrix)"
   ]
  },
  {
   "cell_type": "code",
   "execution_count": 50,
   "metadata": {},
   "outputs": [
    {
     "data": {
      "text/plain": [
       "array([[ 978,    0,    0,    0,    0,    0,    0,    1,    1,    0],\n",
       "       [   0, 1131,    2,    0,    0,    0,    1,    1,    0,    0],\n",
       "       [   1,    0, 1023,    0,    1,    0,    0,    5,    2,    0],\n",
       "       [   0,    0,    1, 1004,    0,    4,    0,    0,    1,    0],\n",
       "       [   0,    0,    0,    0,  977,    0,    1,    1,    1,    2],\n",
       "       [   0,    0,    0,    4,    0,  885,    1,    1,    0,    1],\n",
       "       [   5,    2,    1,    0,    1,    5,  943,    0,    1,    0],\n",
       "       [   0,    3,    3,    0,    0,    0,    0, 1020,    1,    1],\n",
       "       [   2,    0,    1,    1,    1,    1,    0,    1,  965,    2],\n",
       "       [   0,    1,    0,    0,    6,    4,    0,    4,    4,  990]],\n",
       "      dtype=int32)"
      ]
     },
     "execution_count": 50,
     "metadata": {},
     "output_type": "execute_result"
    }
   ],
   "source": [
    "confusion_matrix"
   ]
  },
  {
   "cell_type": "markdown",
   "metadata": {},
   "source": [
    "Même s'il n'est pas trop compliqué de lire cette matrice, il est beaucoup plus parlant de la représenter sous forme d'image :"
   ]
  },
  {
   "cell_type": "code",
   "execution_count": 51,
   "metadata": {},
   "outputs": [
    {
     "data": {
      "image/png": "[encoded data removed]",
      "text/plain": [
       "<Figure size 864x720 with 2 Axes>"
      ]
     },
     "metadata": {
      "needs_background": "light"
     },
     "output_type": "display_data"
    }
   ],
   "source": [
    "df_cm = pd.DataFrame(np.array(confusion_matrix),\n",
    "                     index = class_names,\n",
    "                     columns = class_names)\n",
    "plt.figure(figsize = (12,10))\n",
    "sn.heatmap(df_cm, annot=True, fmt=\"G\");"
   ]
  },
  {
   "cell_type": "code",
   "execution_count": null,
   "metadata": {},
   "outputs": [],
   "source": []
  }
 ],
 "metadata": {
  "kernelspec": {
   "display_name": "Python 3",
   "language": "python",
   "name": "python3"
  },
  "language_info": {
   "codemirror_mode": {
    "name": "ipython",
    "version": 3
   },
   "file_extension": ".py",
   "mimetype": "text/x-python",
   "name": "python",
   "nbconvert_exporter": "python",
   "pygments_lexer": "ipython3",
   "version": "3.8.5"
  }
 },
 "nbformat": 4,
 "nbformat_minor": 4
}
